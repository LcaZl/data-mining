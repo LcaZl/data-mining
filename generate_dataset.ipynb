{
 "cells": [
  {
   "cell_type": "markdown",
   "metadata": {},
   "source": [
    "# Generate Standard Routes Dataset"
   ]
  },
  {
   "cell_type": "code",
   "execution_count": 2,
   "metadata": {},
   "outputs": [],
   "source": [
    "# Import the class\n",
    "from standard_dataset_generation import StandardRouteGenerator\n",
    "from actual_dataset_generation import ShipmentVariationsGenerator\n",
    "import pandas as pd"
   ]
  },
  {
   "cell_type": "code",
   "execution_count": 2,
   "metadata": {},
   "outputs": [],
   "source": [
    "# all the cities used to generate the Dataset\n",
    "cities = ['Rome','Milan','Naples','Turin','Palermo','Genoa','Bologna','Florence','Bari','Catania','Verona','Venice','Messina','Padua','Prato','Trieste','Brescia','Parma','Taranto','Modena','Reggio Calabria','Reggio Emilia','Perugia','Ravenna','Livorno','Rimini','Cagliari','Foggia','Ferrara','Salerno','Latina','Giugliano in Campania','Monza','Sassari','Bergamo','Pescara','Trento','Forlì','Syracuse','Vicenza','Terni','Bolzano-Bozen','Piacenza','Novara','Ancona','Udine','Andria','Arezzo','Cesena','Pesaro','Lecce','Barletta','La Spezia','Alessandria','Pisa','Pistoia','Lucca','Guidonia Montecelio','Catanzaro','Treviso','Como','Brindisi','Busto Arsizio','Grosseto','Torre del Greco']\n",
    "\n",
    "# Expanded list of possible merchandise\n",
    "merchandise_list = ['milk', 'pens', 'butter', 'honey', 'tomatoes', 'bread', 'cheese', 'apples', 'oranges', 'fish', 'laptop', 'mouse', 'keyboard', 'eggs', 'broccoli', 'razor', 'chicken', 'shampoo', 'toothpaste', 'socks', 'sweater', 'toilet paper', 'yogurt', 'cereal', 'coffee', 'toothbrush', 'salad dressing', 'ketchup', 'paper towels', 'soap', 'potatoes', 'carrots', 'onions', 'juice', 'chocolate', 'ice cream', 'garlic', 'shoes', 'laundry detergent', 'dish soap', 'tuna', 'rice', 'spaghetti', 'beans', 'toilet cleaner', 'trash bags', 'kitchen towels', 'light bulbs']"
   ]
  },
  {
   "cell_type": "code",
   "execution_count": null,
   "metadata": {},
   "outputs": [
    {
     "name": "stdout",
     "output_type": "stream",
     "text": [
      "Generated 50 standard routes and stored in '../data/standard_50.json'\n"
     ]
    }
   ],
   "source": [
    "generator = StandardRouteGenerator(number_of_shipments=50, merchandise_size=4)\n",
    "generator.cities = cities\n",
    "generator.merchandise_list = merchandise_list\n",
    "generator.generate_shipments()\n",
    "generator.save_shipments_to_file( file_path='data/standard_50.json')"
   ]
  },
  {
   "cell_type": "code",
   "execution_count": null,
   "metadata": {},
   "outputs": [
    {
     "name": "stdout",
     "output_type": "stream",
     "text": [
      "   id                                              route\n",
      "0  s0  [{'_from': 'Rimini', '_to': 'Andria', '_mercha...\n",
      "1  s1  [{'_from': 'Pistoia', '_to': 'Foggia', '_merch...\n",
      "2  s2  [{'_from': 'Catania', '_to': 'Padua', '_mercha...\n",
      "3  s3  [{'_from': 'Andria', '_to': 'La Spezia', '_mer...\n",
      "4  s4  [{'_from': 'Latina', '_to': 'Reggio Calabria',...\n"
     ]
    }
   ],
   "source": [
    "shipments = pd.read_json('data/standard_50.json')\n",
    "print(shipments.head())"
   ]
  },
  {
   "cell_type": "markdown",
   "metadata": {},
   "source": [
    "# Generate Actual Routes Dataset from the Standard Route Dataset"
   ]
  },
  {
   "cell_type": "code",
   "execution_count": null,
   "metadata": {},
   "outputs": [
    {
     "name": "stdout",
     "output_type": "stream",
     "text": [
      "All variations saved in the file\n"
     ]
    }
   ],
   "source": [
    "# Define the number of shipments and create drivers list\n",
    "drivers_list = [f'driver_{i}' for i in range(1, 100)]\n",
    "\n",
    "# Create an instance of the ShipmentVariationsGenerator class\n",
    "generator = ShipmentVariationsGenerator(drivers_list, input_file_path='data/standard_50.json', output_file_path='../data/actual_50s_10k_variations.json', add_item_max=2 )\n",
    "\n",
    "generator.number_of_variations = 10000\n",
    "# Call the generate_variations method to generate and save all variations in a single file\n",
    "variation_files = generator.generate_variations()\n",
    "print(\"All variations saved in the file\")"
   ]
  },
  {
   "cell_type": "code",
   "execution_count": null,
   "metadata": {},
   "outputs": [
    {
     "name": "stdout",
     "output_type": "stream",
     "text": [
      "   id     driver sroute                                              route\n",
      "0  a0  driver_57     s0  [{'_from': 'Palermo', '_to': 'Trento', '_merch...\n",
      "1  a1  driver_74     s0  [{'_from': 'Palermo', '_to': 'Giugliano in Cam...\n",
      "2  a2  driver_44     s0  [{'_from': 'Palermo', '_to': 'Giugliano in Cam...\n",
      "3  a3  driver_69     s0  [{'_from': 'Palermo', '_to': 'Giugliano in Cam...\n",
      "4  a4  driver_24     s0  [{'_from': 'Palermo', '_to': 'Giugliano in Cam...\n"
     ]
    }
   ],
   "source": [
    "shipments = pd.read_json('data/actual_20s_1k_variations.json')\n",
    "print(shipments.head())"
   ]
  }
 ],
 "metadata": {
  "kernelspec": {
   "display_name": "DataMiningProject-XKT8uMfV",
   "language": "python",
   "name": "python3"
  },
  "language_info": {
   "codemirror_mode": {
    "name": "ipython",
    "version": 3
   },
   "file_extension": ".py",
   "mimetype": "text/x-python",
   "name": "python",
   "nbconvert_exporter": "python",
   "pygments_lexer": "ipython3",
   "version": "3.10.9"
  }
 },
 "nbformat": 4,
 "nbformat_minor": 2
}
